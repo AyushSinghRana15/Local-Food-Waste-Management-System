{
 "cells": [
  {
   "cell_type": "markdown",
   "id": "3dff66c0-a629-4d79-9a86-4a3585e29f61",
   "metadata": {},
   "source": [
    "# **Project Name** - Local Food Waste Management "
   ]
  },
  {
   "cell_type": "markdown",
   "id": "2af67b4b-a14d-47cc-abbc-ba0315bfd4ab",
   "metadata": {},
   "source": [
    "#### **Project type** - Python, SQL, Streamlit, Data Analysis, Food Management\n",
    "#### **Contribution** - Individual\n",
    "#### **Name** - Ayush Singh"
   ]
  },
  {
   "cell_type": "markdown",
   "id": "41c58550-2d56-411c-a557-86563d6e403f",
   "metadata": {},
   "source": [
    "# **Project Summary** "
   ]
  },
  {
   "cell_type": "markdown",
   "id": "e8615d9e-b24e-4466-9e67-7e66ac86452f",
   "metadata": {},
   "source": [
    "The Local Food Wastage Management System project aims to address the critical issue of food wastage by creating an end-to-end digital solution that connects food providers, such as restaurants and stores, with receivers like NGOs and individuals in need. The system collects information about surplus food donations, their quantities, expiry dates, and locations, and stores this data efficiently in a structured SQL database. Through carefully designed CRUD operations, the database remains accurate and up-to-date, allowing real-time tracking of available, claimed, and expired food items. The project implements in-depth data analysis to identify wastage trends by category, location, and time, using both quantitative queries and graphical representations. These insights enable the generation of meaningful reports to guide effective food redistribution, ensuring that food nearing expiry is prioritized for distribution and that systemic wastage hotspots are identified. The application features an intuitive user interface—built in Streamlit for demonstration—that empowers users to filter inventory by city, food type, provider, and meal type, as well as access provider contact details for coordination. By bridging data collection, management, analysis, and communication in one integrated platform, the project advances the fight against food wastage and contributes directly to hunger mitigation and community welfare."
   ]
  },
  {
   "cell_type": "markdown",
   "id": "56c223ad-bf38-49da-9308-1ad830dd6f1a",
   "metadata": {},
   "source": [
    "# **GitHub Link**"
   ]
  },
  {
   "cell_type": "markdown",
   "id": "29ce823e-42b6-4261-83cf-b4b78220a5bc",
   "metadata": {},
   "source": [
    "https://github.com/AyushSinghRana15/Local-Food-Waste-Management-System.git"
   ]
  },
  {
   "cell_type": "markdown",
   "id": "62a9d1da-a60d-4262-9a55-cf5cfcc9c258",
   "metadata": {},
   "source": [
    "# **Problem Statement**"
   ]
  },
  {
   "cell_type": "markdown",
   "id": "4bf2f21b-1754-4eac-9aae-e56dee8a234f",
   "metadata": {},
   "source": [
    "Food wastage is a significant issue, with many households and restaurants discarding surplus food while numerous people struggle with food insecurity. This project aims to develop a Local Food Wastage Management System, where:\n",
    "\n",
    "1.Restaurants and individuals can list surplus food.\\\n",
    "2.NGOs or individuals in need can claim the food.\\\n",
    "3.SQL stores available food details and locations.\\\n",
    "4.A Streamlit app enables interaction, filtering, CRUD operation and visualization. "
   ]
  },
  {
   "cell_type": "markdown",
   "id": "cf8282e6-9e88-41cd-973c-8549a449eae6",
   "metadata": {},
   "source": [
    "# **Business Use Cases**"
   ]
  },
  {
   "cell_type": "markdown",
   "id": "8f93b6b0-11cd-40a8-ac50-4c5fa379e45a",
   "metadata": {},
   "source": [
    "1.Connecting surplus food providers to those in need through a structured platform. \\\n",
    "2.Reducing food waste by redistributing excess food efficiently.\\\n",
    "3.Enhancing accessibility via geolocation features to locate food easily.\\\n",
    "4.Data analysis on food wastage trends for better decision-making.\n"
   ]
  },
  {
   "cell_type": "markdown",
   "id": "802d8fb8-d4a4-4054-8817-30481f949bf9",
   "metadata": {},
   "source": [
    "# **Let's Begin**"
   ]
  },
  {
   "cell_type": "code",
   "execution_count": 2,
   "id": "7315eaa4-4139-4e29-acc1-591e0515da0c",
   "metadata": {},
   "outputs": [],
   "source": [
    "#importing important libraries\n",
    "# Data manipulation\n",
    "import numpy as np\n",
    "import pandas as pd\n",
    "\n",
    "# Visualization\n",
    "import matplotlib.pyplot as plt\n",
    "import seaborn as sns"
   ]
  },
  {
   "cell_type": "code",
   "execution_count": 3,
   "id": "2554168a-e3c0-4f73-8272-502b8ba25c7c",
   "metadata": {},
   "outputs": [],
   "source": [
    "#reading dataset's\n",
    "providers_df = pd.read_csv(\"providers_data.csv\")\n",
    "receivers_df = pd.read_csv(\"receivers_data.csv\")\n",
    "food_df = pd.read_csv(\"food_listings_data.csv\")\n",
    "claims_df = pd.read_csv(\"claims_data.csv\")"
   ]
  },
  {
   "cell_type": "code",
   "execution_count": 4,
   "id": "d3145fab-c557-4bc9-b5a6-6c12d9021b7d",
   "metadata": {},
   "outputs": [
    {
     "name": "stdout",
     "output_type": "stream",
     "text": [
      "Providers: (1000, 6)\n",
      "Receivers: (1000, 5)\n",
      "Food Listings: (1000, 9)\n",
      "Claims: (1000, 5)\n"
     ]
    }
   ],
   "source": [
    "#Number of rows and columns\n",
    "print(f\"Providers: {providers_df.shape}\")\n",
    "print(f\"Receivers: {receivers_df.shape}\")\n",
    "print(f\"Food Listings: {food_df.shape}\")\n",
    "print(f\"Claims: {claims_df.shape}\")"
   ]
  },
  {
   "cell_type": "code",
   "execution_count": 5,
   "id": "01c0ea44-12eb-4147-a472-3c7c60b072d3",
   "metadata": {},
   "outputs": [
    {
     "data": {
      "text/html": [
       "<div>\n",
       "<style scoped>\n",
       "    .dataframe tbody tr th:only-of-type {\n",
       "        vertical-align: middle;\n",
       "    }\n",
       "\n",
       "    .dataframe tbody tr th {\n",
       "        vertical-align: top;\n",
       "    }\n",
       "\n",
       "    .dataframe thead th {\n",
       "        text-align: right;\n",
       "    }\n",
       "</style>\n",
       "<table border=\"1\" class=\"dataframe\">\n",
       "  <thead>\n",
       "    <tr style=\"text-align: right;\">\n",
       "      <th></th>\n",
       "      <th>Provider_ID</th>\n",
       "      <th>Name</th>\n",
       "      <th>Type</th>\n",
       "      <th>Address</th>\n",
       "      <th>City</th>\n",
       "      <th>Contact</th>\n",
       "    </tr>\n",
       "  </thead>\n",
       "  <tbody>\n",
       "    <tr>\n",
       "      <th>0</th>\n",
       "      <td>1</td>\n",
       "      <td>Gonzales-Cochran</td>\n",
       "      <td>Supermarket</td>\n",
       "      <td>74347 Christopher Extensions\\nAndreamouth, OK ...</td>\n",
       "      <td>New Jessica</td>\n",
       "      <td>+1-600-220-0480</td>\n",
       "    </tr>\n",
       "    <tr>\n",
       "      <th>1</th>\n",
       "      <td>2</td>\n",
       "      <td>Nielsen, Johnson and Fuller</td>\n",
       "      <td>Grocery Store</td>\n",
       "      <td>91228 Hanson Stream\\nWelchtown, OR 27136</td>\n",
       "      <td>East Sheena</td>\n",
       "      <td>+1-925-283-8901x6297</td>\n",
       "    </tr>\n",
       "    <tr>\n",
       "      <th>2</th>\n",
       "      <td>3</td>\n",
       "      <td>Miller-Black</td>\n",
       "      <td>Supermarket</td>\n",
       "      <td>561 Martinez Point Suite 507\\nGuzmanchester, W...</td>\n",
       "      <td>Lake Jesusview</td>\n",
       "      <td>001-517-295-2206</td>\n",
       "    </tr>\n",
       "    <tr>\n",
       "      <th>3</th>\n",
       "      <td>4</td>\n",
       "      <td>Clark, Prince and Williams</td>\n",
       "      <td>Grocery Store</td>\n",
       "      <td>467 Bell Trail Suite 409\\nPort Jesus, IA 61188</td>\n",
       "      <td>Mendezmouth</td>\n",
       "      <td>556.944.8935x401</td>\n",
       "    </tr>\n",
       "    <tr>\n",
       "      <th>4</th>\n",
       "      <td>5</td>\n",
       "      <td>Coleman-Farley</td>\n",
       "      <td>Grocery Store</td>\n",
       "      <td>078 Matthew Creek Apt. 319\\nSaraborough, MA 53978</td>\n",
       "      <td>Valentineside</td>\n",
       "      <td>193.714.6577</td>\n",
       "    </tr>\n",
       "  </tbody>\n",
       "</table>\n",
       "</div>"
      ],
      "text/plain": [
       "   Provider_ID                         Name           Type  \\\n",
       "0            1             Gonzales-Cochran    Supermarket   \n",
       "1            2  Nielsen, Johnson and Fuller  Grocery Store   \n",
       "2            3                 Miller-Black    Supermarket   \n",
       "3            4   Clark, Prince and Williams  Grocery Store   \n",
       "4            5               Coleman-Farley  Grocery Store   \n",
       "\n",
       "                                             Address            City  \\\n",
       "0  74347 Christopher Extensions\\nAndreamouth, OK ...     New Jessica   \n",
       "1           91228 Hanson Stream\\nWelchtown, OR 27136     East Sheena   \n",
       "2  561 Martinez Point Suite 507\\nGuzmanchester, W...  Lake Jesusview   \n",
       "3     467 Bell Trail Suite 409\\nPort Jesus, IA 61188     Mendezmouth   \n",
       "4  078 Matthew Creek Apt. 319\\nSaraborough, MA 53978   Valentineside   \n",
       "\n",
       "                Contact  \n",
       "0       +1-600-220-0480  \n",
       "1  +1-925-283-8901x6297  \n",
       "2      001-517-295-2206  \n",
       "3      556.944.8935x401  \n",
       "4          193.714.6577  "
      ]
     },
     "metadata": {},
     "output_type": "display_data"
    },
    {
     "data": {
      "text/html": [
       "<div>\n",
       "<style scoped>\n",
       "    .dataframe tbody tr th:only-of-type {\n",
       "        vertical-align: middle;\n",
       "    }\n",
       "\n",
       "    .dataframe tbody tr th {\n",
       "        vertical-align: top;\n",
       "    }\n",
       "\n",
       "    .dataframe thead th {\n",
       "        text-align: right;\n",
       "    }\n",
       "</style>\n",
       "<table border=\"1\" class=\"dataframe\">\n",
       "  <thead>\n",
       "    <tr style=\"text-align: right;\">\n",
       "      <th></th>\n",
       "      <th>Receiver_ID</th>\n",
       "      <th>Name</th>\n",
       "      <th>Type</th>\n",
       "      <th>City</th>\n",
       "      <th>Contact</th>\n",
       "    </tr>\n",
       "  </thead>\n",
       "  <tbody>\n",
       "    <tr>\n",
       "      <th>0</th>\n",
       "      <td>1</td>\n",
       "      <td>Donald Gomez</td>\n",
       "      <td>Shelter</td>\n",
       "      <td>Port Carlburgh</td>\n",
       "      <td>(955)922-5295</td>\n",
       "    </tr>\n",
       "    <tr>\n",
       "      <th>1</th>\n",
       "      <td>2</td>\n",
       "      <td>Laurie Ramos</td>\n",
       "      <td>Individual</td>\n",
       "      <td>Lewisburgh</td>\n",
       "      <td>761.042.1570</td>\n",
       "    </tr>\n",
       "    <tr>\n",
       "      <th>2</th>\n",
       "      <td>3</td>\n",
       "      <td>Ashley Mckee</td>\n",
       "      <td>NGO</td>\n",
       "      <td>South Randalltown</td>\n",
       "      <td>691-023-0094x856</td>\n",
       "    </tr>\n",
       "    <tr>\n",
       "      <th>3</th>\n",
       "      <td>4</td>\n",
       "      <td>Erika Rose</td>\n",
       "      <td>NGO</td>\n",
       "      <td>South Shaneville</td>\n",
       "      <td>8296491111</td>\n",
       "    </tr>\n",
       "    <tr>\n",
       "      <th>4</th>\n",
       "      <td>5</td>\n",
       "      <td>John Romero</td>\n",
       "      <td>Individual</td>\n",
       "      <td>Bakerport</td>\n",
       "      <td>067.491.0154</td>\n",
       "    </tr>\n",
       "  </tbody>\n",
       "</table>\n",
       "</div>"
      ],
      "text/plain": [
       "   Receiver_ID          Name        Type               City           Contact\n",
       "0            1  Donald Gomez     Shelter     Port Carlburgh     (955)922-5295\n",
       "1            2  Laurie Ramos  Individual         Lewisburgh      761.042.1570\n",
       "2            3  Ashley Mckee         NGO  South Randalltown  691-023-0094x856\n",
       "3            4    Erika Rose         NGO   South Shaneville        8296491111\n",
       "4            5   John Romero  Individual          Bakerport      067.491.0154"
      ]
     },
     "metadata": {},
     "output_type": "display_data"
    },
    {
     "data": {
      "text/html": [
       "<div>\n",
       "<style scoped>\n",
       "    .dataframe tbody tr th:only-of-type {\n",
       "        vertical-align: middle;\n",
       "    }\n",
       "\n",
       "    .dataframe tbody tr th {\n",
       "        vertical-align: top;\n",
       "    }\n",
       "\n",
       "    .dataframe thead th {\n",
       "        text-align: right;\n",
       "    }\n",
       "</style>\n",
       "<table border=\"1\" class=\"dataframe\">\n",
       "  <thead>\n",
       "    <tr style=\"text-align: right;\">\n",
       "      <th></th>\n",
       "      <th>Food_ID</th>\n",
       "      <th>Food_Name</th>\n",
       "      <th>Quantity</th>\n",
       "      <th>Expiry_Date</th>\n",
       "      <th>Provider_ID</th>\n",
       "      <th>Provider_Type</th>\n",
       "      <th>Location</th>\n",
       "      <th>Food_Type</th>\n",
       "      <th>Meal_Type</th>\n",
       "    </tr>\n",
       "  </thead>\n",
       "  <tbody>\n",
       "    <tr>\n",
       "      <th>0</th>\n",
       "      <td>1</td>\n",
       "      <td>Bread</td>\n",
       "      <td>43</td>\n",
       "      <td>3/17/2025</td>\n",
       "      <td>110</td>\n",
       "      <td>Grocery Store</td>\n",
       "      <td>South Kellyville</td>\n",
       "      <td>Non-Vegetarian</td>\n",
       "      <td>Breakfast</td>\n",
       "    </tr>\n",
       "    <tr>\n",
       "      <th>1</th>\n",
       "      <td>2</td>\n",
       "      <td>Soup</td>\n",
       "      <td>22</td>\n",
       "      <td>3/24/2025</td>\n",
       "      <td>791</td>\n",
       "      <td>Grocery Store</td>\n",
       "      <td>West James</td>\n",
       "      <td>Non-Vegetarian</td>\n",
       "      <td>Dinner</td>\n",
       "    </tr>\n",
       "    <tr>\n",
       "      <th>2</th>\n",
       "      <td>3</td>\n",
       "      <td>Fruits</td>\n",
       "      <td>46</td>\n",
       "      <td>3/28/2025</td>\n",
       "      <td>478</td>\n",
       "      <td>Catering Service</td>\n",
       "      <td>Lake Regina</td>\n",
       "      <td>Vegan</td>\n",
       "      <td>Breakfast</td>\n",
       "    </tr>\n",
       "    <tr>\n",
       "      <th>3</th>\n",
       "      <td>4</td>\n",
       "      <td>Fruits</td>\n",
       "      <td>15</td>\n",
       "      <td>3/16/2025</td>\n",
       "      <td>930</td>\n",
       "      <td>Restaurant</td>\n",
       "      <td>Kellytown</td>\n",
       "      <td>Vegan</td>\n",
       "      <td>Lunch</td>\n",
       "    </tr>\n",
       "    <tr>\n",
       "      <th>4</th>\n",
       "      <td>5</td>\n",
       "      <td>Soup</td>\n",
       "      <td>14</td>\n",
       "      <td>3/19/2025</td>\n",
       "      <td>279</td>\n",
       "      <td>Restaurant</td>\n",
       "      <td>Garciaport</td>\n",
       "      <td>Vegan</td>\n",
       "      <td>Dinner</td>\n",
       "    </tr>\n",
       "  </tbody>\n",
       "</table>\n",
       "</div>"
      ],
      "text/plain": [
       "   Food_ID Food_Name  Quantity Expiry_Date  Provider_ID     Provider_Type  \\\n",
       "0        1     Bread        43   3/17/2025          110     Grocery Store   \n",
       "1        2      Soup        22   3/24/2025          791     Grocery Store   \n",
       "2        3    Fruits        46   3/28/2025          478  Catering Service   \n",
       "3        4    Fruits        15   3/16/2025          930        Restaurant   \n",
       "4        5      Soup        14   3/19/2025          279        Restaurant   \n",
       "\n",
       "           Location       Food_Type  Meal_Type  \n",
       "0  South Kellyville  Non-Vegetarian  Breakfast  \n",
       "1        West James  Non-Vegetarian     Dinner  \n",
       "2       Lake Regina           Vegan  Breakfast  \n",
       "3         Kellytown           Vegan      Lunch  \n",
       "4        Garciaport           Vegan     Dinner  "
      ]
     },
     "metadata": {},
     "output_type": "display_data"
    },
    {
     "data": {
      "text/html": [
       "<div>\n",
       "<style scoped>\n",
       "    .dataframe tbody tr th:only-of-type {\n",
       "        vertical-align: middle;\n",
       "    }\n",
       "\n",
       "    .dataframe tbody tr th {\n",
       "        vertical-align: top;\n",
       "    }\n",
       "\n",
       "    .dataframe thead th {\n",
       "        text-align: right;\n",
       "    }\n",
       "</style>\n",
       "<table border=\"1\" class=\"dataframe\">\n",
       "  <thead>\n",
       "    <tr style=\"text-align: right;\">\n",
       "      <th></th>\n",
       "      <th>Claim_ID</th>\n",
       "      <th>Food_ID</th>\n",
       "      <th>Receiver_ID</th>\n",
       "      <th>Status</th>\n",
       "      <th>Timestamp</th>\n",
       "    </tr>\n",
       "  </thead>\n",
       "  <tbody>\n",
       "    <tr>\n",
       "      <th>0</th>\n",
       "      <td>1</td>\n",
       "      <td>164</td>\n",
       "      <td>908</td>\n",
       "      <td>Pending</td>\n",
       "      <td>3/5/2025 5:26</td>\n",
       "    </tr>\n",
       "    <tr>\n",
       "      <th>1</th>\n",
       "      <td>2</td>\n",
       "      <td>353</td>\n",
       "      <td>391</td>\n",
       "      <td>Cancelled</td>\n",
       "      <td>3/11/2025 10:24</td>\n",
       "    </tr>\n",
       "    <tr>\n",
       "      <th>2</th>\n",
       "      <td>3</td>\n",
       "      <td>626</td>\n",
       "      <td>492</td>\n",
       "      <td>Completed</td>\n",
       "      <td>3/21/2025 0:59</td>\n",
       "    </tr>\n",
       "    <tr>\n",
       "      <th>3</th>\n",
       "      <td>4</td>\n",
       "      <td>61</td>\n",
       "      <td>933</td>\n",
       "      <td>Cancelled</td>\n",
       "      <td>3/4/2025 9:08</td>\n",
       "    </tr>\n",
       "    <tr>\n",
       "      <th>4</th>\n",
       "      <td>5</td>\n",
       "      <td>345</td>\n",
       "      <td>229</td>\n",
       "      <td>Pending</td>\n",
       "      <td>3/14/2025 15:17</td>\n",
       "    </tr>\n",
       "  </tbody>\n",
       "</table>\n",
       "</div>"
      ],
      "text/plain": [
       "   Claim_ID  Food_ID  Receiver_ID     Status        Timestamp\n",
       "0         1      164          908    Pending    3/5/2025 5:26\n",
       "1         2      353          391  Cancelled  3/11/2025 10:24\n",
       "2         3      626          492  Completed   3/21/2025 0:59\n",
       "3         4       61          933  Cancelled    3/4/2025 9:08\n",
       "4         5      345          229    Pending  3/14/2025 15:17"
      ]
     },
     "metadata": {},
     "output_type": "display_data"
    }
   ],
   "source": [
    "#First 5 rows of each dataset\n",
    "display(providers_df.head(), receivers_df.head(), food_df.head(), claims_df.head())"
   ]
  },
  {
   "cell_type": "code",
   "execution_count": 6,
   "id": "6e76bd4c-274b-44a5-89c2-2220ef21eb0a",
   "metadata": {},
   "outputs": [],
   "source": [
    "#standardizing column names for further sql queries \n",
    "#splitting strings into substring , applying lowercase and replacing space with \"_\"\n",
    "def clean_columns(df):\n",
    "    df.columns = df.columns.str.strip().str.lower().str.replace(\" \", \"_\")\n",
    "    return df\n",
    "\n",
    "providers_df = clean_columns(providers_df)\n",
    "receivers_df = clean_columns(receivers_df)\n",
    "food_df = clean_columns(food_df)\n",
    "claims_df = clean_columns(claims_df)"
   ]
  },
  {
   "cell_type": "code",
   "execution_count": 7,
   "id": "6c4b0e6d-74f5-4e3b-9df1-fdd1e1b988e2",
   "metadata": {},
   "outputs": [],
   "source": [
    "from datetime import datetime\n",
    "#Getting expiry food date\n",
    "food_df['expiry'] = pd.to_datetime(food_df['expiry_date'], errors='coerce')\n",
    "claims_df['claim_time'] = pd.to_datetime(claims_df['timestamp'], errors='coerce')\n",
    "\n",
    "# Numeric conversions\n",
    "food_df['quantity'] = pd.to_numeric(food_df['quantity'], errors='coerce')"
   ]
  },
  {
   "cell_type": "code",
   "execution_count": 8,
   "id": "6041ed6d-ecc9-4e60-8125-5cf02dda5f3f",
   "metadata": {},
   "outputs": [
    {
     "name": "stdout",
     "output_type": "stream",
     "text": [
      "Providers Missing Values:\n",
      " provider_id    0\n",
      "name           0\n",
      "type           0\n",
      "address        0\n",
      "city           0\n",
      "contact        0\n",
      "dtype: int64\n",
      "\n",
      "Receivers Missing Values:\n",
      " receiver_id    0\n",
      "name           0\n",
      "type           0\n",
      "city           0\n",
      "contact        0\n",
      "dtype: int64\n",
      "\n",
      "Food Listings Missing Values:\n",
      " food_id          0\n",
      "food_name        0\n",
      "quantity         0\n",
      "expiry_date      0\n",
      "provider_id      0\n",
      "provider_type    0\n",
      "location         0\n",
      "food_type        0\n",
      "meal_type        0\n",
      "expiry           0\n",
      "dtype: int64\n",
      "\n",
      "Claims Missing Values:\n",
      " claim_id       0\n",
      "food_id        0\n",
      "receiver_id    0\n",
      "status         0\n",
      "timestamp      0\n",
      "claim_time     0\n",
      "dtype: int64\n"
     ]
    }
   ],
   "source": [
    "#Getting the missing values in each dataset\n",
    "print(\"Providers Missing Values:\\n\", providers_df.isnull().sum())\n",
    "print(\"\\nReceivers Missing Values:\\n\", receivers_df.isnull().sum())\n",
    "print(\"\\nFood Listings Missing Values:\\n\", food_df.isnull().sum())\n",
    "print(\"\\nClaims Missing Values:\\n\", claims_df.isnull().sum())"
   ]
  },
  {
   "cell_type": "code",
   "execution_count": 20,
   "id": "ea3ac918-5d14-4769-a38c-5b841c4dce3a",
   "metadata": {},
   "outputs": [],
   "source": [
    "#We don't have any missing values in all the datasets"
   ]
  },
  {
   "cell_type": "code",
   "execution_count": 10,
   "id": "9113fed6-aae1-44dd-b7b3-f81a8352fec0",
   "metadata": {},
   "outputs": [
    {
     "name": "stdout",
     "output_type": "stream",
     "text": [
      "Invalid provider references: 0\n",
      "Invalid receiver references: 0\n"
     ]
    }
   ],
   "source": [
    "#Validating Relationships between tables\n",
    "# Providers in food listings\n",
    "invalid_providers = food_df[~food_df['provider_id'].isin(providers_df['provider_id'])]\n",
    "print(f\"Invalid provider references: {len(invalid_providers)}\")\n",
    "\n",
    "# Receivers in claims\n",
    "invalid_receivers = claims_df[~claims_df['receiver_id'].isin(receivers_df['receiver_id'])]\n",
    "print(f\"Invalid receiver references: {len(invalid_receivers)}\")"
   ]
  },
  {
   "cell_type": "code",
   "execution_count": 11,
   "id": "cd5e517e-9756-4bdc-bf8c-123ae85e5957",
   "metadata": {},
   "outputs": [
    {
     "name": "stdout",
     "output_type": "stream",
     "text": [
      "Providers duplicates: 0\n",
      "Receivers duplicates: 0\n",
      "Food Listings duplicates: 0\n",
      "Claims duplicates: 0\n"
     ]
    }
   ],
   "source": [
    "print(\"Providers duplicates:\", providers_df.duplicated().sum())\n",
    "print(\"Receivers duplicates:\", receivers_df.duplicated().sum())\n",
    "print(\"Food Listings duplicates:\", food_df.duplicated().sum())\n",
    "print(\"Claims duplicates:\", claims_df.duplicated().sum())"
   ]
  },
  {
   "cell_type": "code",
   "execution_count": 12,
   "id": "06460f85-d390-4e2c-a6ea-445c0c00d5ed",
   "metadata": {},
   "outputs": [],
   "source": [
    "#There are no duplicacy in the dataset"
   ]
  },
  {
   "cell_type": "code",
   "execution_count": 13,
   "id": "0a6ae6ba-5750-42c9-8060-bbfa2fa65fab",
   "metadata": {},
   "outputs": [],
   "source": [
    "#Marking the food status as claimed or available\n",
    "food_df['status'] = food_df['food_id'].apply(\n",
    "    lambda x: 'Claimed' if x in claims_df['food_id'].values else 'Available'\n",
    ")"
   ]
  },
  {
   "cell_type": "code",
   "execution_count": 14,
   "id": "53731206-fb54-49df-ad25-d09ffb42d13e",
   "metadata": {},
   "outputs": [
    {
     "name": "stdout",
     "output_type": "stream",
     "text": [
      "Negative or zero quantities: 0\n",
      "Available but expired: 353\n"
     ]
    }
   ],
   "source": [
    "#Printing absurd number of quantities in the dataset\n",
    "print(\"Negative or zero quantities:\", food_df[food_df['quantity'] <= 0].shape[0])\n",
    "from datetime import datetime\n",
    "print(\"Available but expired:\", food_df[\n",
    "    (food_df['status'] == 'Available') & (food_df['expiry'] < datetime.now())\n",
    "].shape[0])"
   ]
  },
  {
   "cell_type": "markdown",
   "id": "d90d5c11-c093-4097-ad37-44fc77421397",
   "metadata": {},
   "source": [
    "# Database integration "
   ]
  },
  {
   "cell_type": "code",
   "execution_count": 15,
   "id": "d376427b-617d-4fd8-b93f-4af6a72a8e01",
   "metadata": {},
   "outputs": [],
   "source": [
    "# We are using SQL Lite for local development"
   ]
  },
  {
   "cell_type": "code",
   "execution_count": 16,
   "id": "0efc8c0e-d79e-463f-89c8-8c2dff2796d7",
   "metadata": {},
   "outputs": [],
   "source": [
    "import sqlite3\n",
    "\n",
    "# Creating or connecting to database\n",
    "conn = sqlite3.connect(\"local_food_wastage.db\")\n",
    "cursor = conn.cursor()\n",
    "\n",
    "# Creating tables with explicit schema\n",
    "cursor.execute(\"\"\"\n",
    "CREATE TABLE IF NOT EXISTS Providers (\n",
    "    provider_id INTEGER PRIMARY KEY,\n",
    "    name TEXT,\n",
    "    provider_type TEXT,\n",
    "    location TEXT,\n",
    "    contact TEXT\n",
    ")\n",
    "\"\"\")\n",
    "\n",
    "cursor.execute(\"\"\"\n",
    "CREATE TABLE IF NOT EXISTS Receivers (\n",
    "    receiver_id INTEGER PRIMARY KEY,\n",
    "    name TEXT,\n",
    "    receiver_type TEXT,\n",
    "    location TEXT,\n",
    "    contact TEXT\n",
    ")\n",
    "\"\"\")\n",
    "\n",
    "cursor.execute(\"\"\"\n",
    "CREATE TABLE IF NOT EXISTS Food_Listings (\n",
    "    food_id INTEGER PRIMARY KEY,\n",
    "    food_name TEXT,\n",
    "    quantity REAL,\n",
    "    expiry DATE,\n",
    "    provider_id INTEGER,\n",
    "    provider_type TEXT,\n",
    "    location TEXT,\n",
    "    food_type TEXT,\n",
    "    meal_type TEXT,\n",
    "    status TEXT,\n",
    "    FOREIGN KEY (provider_id) REFERENCES Providers(provider_id)\n",
    ")\n",
    "\"\"\")\n",
    "\n",
    "cursor.execute(\"\"\"\n",
    "CREATE TABLE IF NOT EXISTS Claims (\n",
    "    claim_id INTEGER PRIMARY KEY AUTOINCREMENT,\n",
    "    food_id INTEGER,\n",
    "    receiver_id INTEGER,\n",
    "    claim_time DATE,\n",
    "    FOREIGN KEY (food_id) REFERENCES Food_Listings(food_id),\n",
    "    FOREIGN KEY (receiver_id) REFERENCES Receivers(receiver_id)\n",
    ")\n",
    "\"\"\")\n",
    "conn.commit()\n"
   ]
  },
  {
   "cell_type": "code",
   "execution_count": 17,
   "id": "6846811e-63b2-4594-a919-5116f0aaea32",
   "metadata": {},
   "outputs": [
    {
     "name": "stdout",
     "output_type": "stream",
     "text": [
      "    status\n",
      "0  Claimed\n",
      "1  Expired\n"
     ]
    }
   ],
   "source": [
    "# Mark expired items\n",
    "conn.execute(\"\"\"\n",
    "UPDATE Food_Listings\n",
    "SET status = 'Expired'\n",
    "WHERE date(expiry) < date('now') AND status = 'Available';\n",
    "\"\"\")\n",
    "\n",
    "conn.commit()\n",
    "\n",
    "# Verify\n",
    "print(pd.read_sql(\"SELECT DISTINCT status FROM Food_Listings\", conn))"
   ]
  },
  {
   "cell_type": "code",
   "execution_count": 18,
   "id": "0730fd5a-f42a-4900-8327-5cffd8fdc9e5",
   "metadata": {},
   "outputs": [],
   "source": [
    "#Inserting initial Data"
   ]
  },
  {
   "cell_type": "code",
   "execution_count": 19,
   "id": "a6c81e94-edf1-4f81-b8bf-62fc6afaec59",
   "metadata": {},
   "outputs": [
    {
     "data": {
      "text/plain": [
       "1000"
      ]
     },
     "execution_count": 19,
     "metadata": {},
     "output_type": "execute_result"
    }
   ],
   "source": [
    "providers_df.to_sql(\"Providers\", conn, if_exists=\"replace\", index=False)\n",
    "receivers_df.to_sql(\"Receivers\", conn, if_exists=\"replace\", index=False)\n",
    "food_df.to_sql(\"Food_Listings\", conn, if_exists=\"replace\", index=False)\n",
    "claims_df.to_sql(\"Claims\", conn, if_exists=\"replace\", index=False)"
   ]
  },
  {
   "cell_type": "code",
   "execution_count": 20,
   "id": "b275e0a6-e042-4065-8571-c40888e2bd9f",
   "metadata": {},
   "outputs": [],
   "source": [
    "#CRUD Operations (Create, Read, Update and Delete)"
   ]
  },
  {
   "cell_type": "code",
   "execution_count": 22,
   "id": "76a6513c-affc-4161-81b9-16e0e741302c",
   "metadata": {},
   "outputs": [],
   "source": [
    "# CREATE\n",
    "def add_food(food_name, quantity, expiry, provider_id, provider_type, location, food_type, meal_type, status=\"Available\"):\n",
    "    cursor.execute(\"\"\"\n",
    "        INSERT INTO Food_Listings\n",
    "        (food_name, quantity, expiry, provider_id, provider_type, location, food_type, meal_type, status)\n",
    "        VALUES (?, ?, ?, ?, ?, ?, ?, ?, ?)\n",
    "    \"\"\", (food_name, quantity, expiry, provider_id, provider_type, location, food_type, meal_type, status))\n",
    "    conn.commit()\n",
    "\n",
    "# READ\n",
    "def get_available_food():\n",
    "    return pd.read_sql(\"SELECT * FROM Food_Listings WHERE status='Available'\", conn)\n",
    "\n",
    "# UPDATE\n",
    "def update_food_status(food_id, new_status):\n",
    "    cursor.execute(\"UPDATE Food_Listings SET status=? WHERE food_id=?\", (new_status, food_id))\n",
    "    conn.commit()\n",
    "\n",
    "# DELETE\n",
    "def delete_food(food_id):\n",
    "    cursor.execute(\"DELETE FROM Food_Listings WHERE food_id=?\", (food_id,))\n",
    "    conn.commit()\n"
   ]
  },
  {
   "cell_type": "code",
   "execution_count": 23,
   "id": "2c85a3be-abba-4d32-a358-7f709c704c47",
   "metadata": {},
   "outputs": [],
   "source": [
    "#We can use SQL query for wastage patterns"
   ]
  },
  {
   "cell_type": "code",
   "execution_count": 24,
   "id": "bda5c76a-eef0-4b07-ba0e-45cb26ac0d94",
   "metadata": {},
   "outputs": [
    {
     "data": {
      "text/html": [
       "<div>\n",
       "<style scoped>\n",
       "    .dataframe tbody tr th:only-of-type {\n",
       "        vertical-align: middle;\n",
       "    }\n",
       "\n",
       "    .dataframe tbody tr th {\n",
       "        vertical-align: top;\n",
       "    }\n",
       "\n",
       "    .dataframe thead th {\n",
       "        text-align: right;\n",
       "    }\n",
       "</style>\n",
       "<table border=\"1\" class=\"dataframe\">\n",
       "  <thead>\n",
       "    <tr style=\"text-align: right;\">\n",
       "      <th></th>\n",
       "      <th>food_name</th>\n",
       "      <th>location</th>\n",
       "      <th>expiry</th>\n",
       "    </tr>\n",
       "  </thead>\n",
       "  <tbody>\n",
       "    <tr>\n",
       "      <th>0</th>\n",
       "      <td>Soup</td>\n",
       "      <td>West James</td>\n",
       "      <td>2025-03-24 00:00:00</td>\n",
       "    </tr>\n",
       "    <tr>\n",
       "      <th>1</th>\n",
       "      <td>Fruits</td>\n",
       "      <td>Kellytown</td>\n",
       "      <td>2025-03-16 00:00:00</td>\n",
       "    </tr>\n",
       "    <tr>\n",
       "      <th>2</th>\n",
       "      <td>Soup</td>\n",
       "      <td>Garciaport</td>\n",
       "      <td>2025-03-19 00:00:00</td>\n",
       "    </tr>\n",
       "    <tr>\n",
       "      <th>3</th>\n",
       "      <td>Rice</td>\n",
       "      <td>South Christopherborough</td>\n",
       "      <td>2025-03-28 00:00:00</td>\n",
       "    </tr>\n",
       "    <tr>\n",
       "      <th>4</th>\n",
       "      <td>Rice</td>\n",
       "      <td>Markport</td>\n",
       "      <td>2025-03-20 00:00:00</td>\n",
       "    </tr>\n",
       "    <tr>\n",
       "      <th>...</th>\n",
       "      <td>...</td>\n",
       "      <td>...</td>\n",
       "      <td>...</td>\n",
       "    </tr>\n",
       "    <tr>\n",
       "      <th>348</th>\n",
       "      <td>Dairy</td>\n",
       "      <td>East Aaron</td>\n",
       "      <td>2025-03-29 00:00:00</td>\n",
       "    </tr>\n",
       "    <tr>\n",
       "      <th>349</th>\n",
       "      <td>Soup</td>\n",
       "      <td>Port Daniellechester</td>\n",
       "      <td>2025-03-28 00:00:00</td>\n",
       "    </tr>\n",
       "    <tr>\n",
       "      <th>350</th>\n",
       "      <td>Salad</td>\n",
       "      <td>New Amanda</td>\n",
       "      <td>2025-03-29 00:00:00</td>\n",
       "    </tr>\n",
       "    <tr>\n",
       "      <th>351</th>\n",
       "      <td>Fish</td>\n",
       "      <td>Phillipsfort</td>\n",
       "      <td>2025-03-30 00:00:00</td>\n",
       "    </tr>\n",
       "    <tr>\n",
       "      <th>352</th>\n",
       "      <td>Salad</td>\n",
       "      <td>Charlesview</td>\n",
       "      <td>2025-03-19 00:00:00</td>\n",
       "    </tr>\n",
       "  </tbody>\n",
       "</table>\n",
       "<p>353 rows × 3 columns</p>\n",
       "</div>"
      ],
      "text/plain": [
       "    food_name                  location               expiry\n",
       "0        Soup                West James  2025-03-24 00:00:00\n",
       "1      Fruits                 Kellytown  2025-03-16 00:00:00\n",
       "2        Soup                Garciaport  2025-03-19 00:00:00\n",
       "3        Rice  South Christopherborough  2025-03-28 00:00:00\n",
       "4        Rice                  Markport  2025-03-20 00:00:00\n",
       "..        ...                       ...                  ...\n",
       "348     Dairy                East Aaron  2025-03-29 00:00:00\n",
       "349      Soup      Port Daniellechester  2025-03-28 00:00:00\n",
       "350     Salad                New Amanda  2025-03-29 00:00:00\n",
       "351      Fish              Phillipsfort  2025-03-30 00:00:00\n",
       "352     Salad               Charlesview  2025-03-19 00:00:00\n",
       "\n",
       "[353 rows x 3 columns]"
      ]
     },
     "execution_count": 24,
     "metadata": {},
     "output_type": "execute_result"
    }
   ],
   "source": [
    "pd.read_sql(\"\"\"\n",
    "SELECT food_name, location, expiry\n",
    "FROM Food_Listings\n",
    "WHERE date(expiry) <= date('now', '+1 day') AND status='Available'\n",
    "\"\"\", conn)"
   ]
  },
  {
   "cell_type": "code",
   "execution_count": 25,
   "id": "cd12220c-afeb-4e0a-b876-ec46533e9dc7",
   "metadata": {},
   "outputs": [
    {
     "data": {
      "text/html": [
       "<div>\n",
       "<style scoped>\n",
       "    .dataframe tbody tr th:only-of-type {\n",
       "        vertical-align: middle;\n",
       "    }\n",
       "\n",
       "    .dataframe tbody tr th {\n",
       "        vertical-align: top;\n",
       "    }\n",
       "\n",
       "    .dataframe thead th {\n",
       "        text-align: right;\n",
       "    }\n",
       "</style>\n",
       "<table border=\"1\" class=\"dataframe\">\n",
       "  <thead>\n",
       "    <tr style=\"text-align: right;\">\n",
       "      <th></th>\n",
       "      <th>location</th>\n",
       "      <th>food_type</th>\n",
       "      <th>total_expired_items</th>\n",
       "      <th>total_expired_quantity</th>\n",
       "    </tr>\n",
       "  </thead>\n",
       "  <tbody>\n",
       "  </tbody>\n",
       "</table>\n",
       "</div>"
      ],
      "text/plain": [
       "Empty DataFrame\n",
       "Columns: [location, food_type, total_expired_items, total_expired_quantity]\n",
       "Index: []"
      ]
     },
     "execution_count": 25,
     "metadata": {},
     "output_type": "execute_result"
    }
   ],
   "source": [
    "#1. Wastage by Location & Category\n",
    "pd.read_sql(\n",
    "    \"\"\"\n",
    "    SELECT \n",
    "    location,\n",
    "    food_type,\n",
    "    COUNT(*) AS total_expired_items,\n",
    "    SUM(quantity) AS total_expired_quantity\n",
    "FROM Food_Listings\n",
    "WHERE status = 'Expired'\n",
    "GROUP BY location, food_type\n",
    "ORDER BY total_expired_quantity DESC;\n",
    "\n",
    "    \"\"\",conn\n",
    ")"
   ]
  },
  {
   "cell_type": "code",
   "execution_count": 26,
   "id": "517169ab-9ca5-4315-bc89-20a30febf553",
   "metadata": {},
   "outputs": [
    {
     "name": "stdout",
     "output_type": "stream",
     "text": [
      "      status  count\n",
      "0  Available    353\n",
      "1    Claimed    647\n",
      "   food_id   food_name               expiry     status\n",
      "0       14       Bread  2025-03-30 00:00:00  Available\n",
      "1       19        Rice  2025-03-30 00:00:00    Claimed\n",
      "2       24       Bread  2025-03-30 00:00:00  Available\n",
      "3       34       Bread  2025-03-30 00:00:00    Claimed\n",
      "4       86        Soup  2025-03-30 00:00:00    Claimed\n",
      "5      103       Bread  2025-03-30 00:00:00  Available\n",
      "6      121  Vegetables  2025-03-30 00:00:00  Available\n",
      "7      127        Rice  2025-03-30 00:00:00  Available\n",
      "8      147  Vegetables  2025-03-30 00:00:00  Available\n",
      "9      154       Pasta  2025-03-30 00:00:00    Claimed\n",
      "        today\n",
      "0  2025-08-20\n"
     ]
    }
   ],
   "source": [
    "# See how many items are in each status\n",
    "print(pd.read_sql(\"SELECT status, COUNT(*) as count FROM Food_Listings GROUP BY status\", conn))\n",
    "\n",
    "# See some future expiry values\n",
    "print(pd.read_sql(\"SELECT food_id, food_name, expiry, status FROM Food_Listings ORDER BY expiry DESC LIMIT 10\", conn))\n",
    "\n",
    "# See what SQLite thinks the current date is\n",
    "print(pd.read_sql(\"SELECT date('now') as today;\", conn))\n"
   ]
  },
  {
   "cell_type": "code",
   "execution_count": 27,
   "id": "03406bac-9893-4630-b681-6bc511bc4625",
   "metadata": {},
   "outputs": [
    {
     "data": {
      "text/html": [
       "<div>\n",
       "<style scoped>\n",
       "    .dataframe tbody tr th:only-of-type {\n",
       "        vertical-align: middle;\n",
       "    }\n",
       "\n",
       "    .dataframe tbody tr th {\n",
       "        vertical-align: top;\n",
       "    }\n",
       "\n",
       "    .dataframe thead th {\n",
       "        text-align: right;\n",
       "    }\n",
       "</style>\n",
       "<table border=\"1\" class=\"dataframe\">\n",
       "  <thead>\n",
       "    <tr style=\"text-align: right;\">\n",
       "      <th></th>\n",
       "      <th>food_name</th>\n",
       "      <th>location</th>\n",
       "      <th>expiry</th>\n",
       "      <th>quantity</th>\n",
       "    </tr>\n",
       "  </thead>\n",
       "  <tbody>\n",
       "  </tbody>\n",
       "</table>\n",
       "</div>"
      ],
      "text/plain": [
       "Empty DataFrame\n",
       "Columns: [food_name, location, expiry, quantity]\n",
       "Index: []"
      ]
     },
     "execution_count": 27,
     "metadata": {},
     "output_type": "execute_result"
    }
   ],
   "source": [
    "#2. Recently Wasted\n",
    "pd.read_sql(\n",
    "    \"\"\"\n",
    "    SELECT \n",
    "    food_name,\n",
    "    location,\n",
    "    expiry,\n",
    "    quantity\n",
    "FROM Food_Listings\n",
    "WHERE status = 'Expired'\n",
    "  AND date(expiry) BETWEEN date('now', '-30 days') AND date('now')\n",
    "ORDER BY expiry DESC;\n",
    "\n",
    "    \"\"\",conn\n",
    ")"
   ]
  },
  {
   "cell_type": "code",
   "execution_count": 28,
   "id": "0f37a705-d863-4e90-9809-aa78bf5fed1a",
   "metadata": {},
   "outputs": [],
   "source": [
    "# There are no food in the database which is recently wasted"
   ]
  },
  {
   "cell_type": "code",
   "execution_count": 29,
   "id": "6bd9642b-b10e-4f36-892a-96760d086c99",
   "metadata": {},
   "outputs": [
    {
     "data": {
      "text/html": [
       "<div>\n",
       "<style scoped>\n",
       "    .dataframe tbody tr th:only-of-type {\n",
       "        vertical-align: middle;\n",
       "    }\n",
       "\n",
       "    .dataframe tbody tr th {\n",
       "        vertical-align: top;\n",
       "    }\n",
       "\n",
       "    .dataframe thead th {\n",
       "        text-align: right;\n",
       "    }\n",
       "</style>\n",
       "<table border=\"1\" class=\"dataframe\">\n",
       "  <thead>\n",
       "    <tr style=\"text-align: right;\">\n",
       "      <th></th>\n",
       "      <th>food_name</th>\n",
       "      <th>quantity</th>\n",
       "      <th>expiry</th>\n",
       "      <th>location</th>\n",
       "    </tr>\n",
       "  </thead>\n",
       "  <tbody>\n",
       "    <tr>\n",
       "      <th>0</th>\n",
       "      <td>Fruits</td>\n",
       "      <td>15</td>\n",
       "      <td>2025-03-16 00:00:00</td>\n",
       "      <td>Kellytown</td>\n",
       "    </tr>\n",
       "    <tr>\n",
       "      <th>1</th>\n",
       "      <td>Rice</td>\n",
       "      <td>50</td>\n",
       "      <td>2025-03-16 00:00:00</td>\n",
       "      <td>North Michelle</td>\n",
       "    </tr>\n",
       "    <tr>\n",
       "      <th>2</th>\n",
       "      <td>Rice</td>\n",
       "      <td>30</td>\n",
       "      <td>2025-03-16 00:00:00</td>\n",
       "      <td>North Jamesberg</td>\n",
       "    </tr>\n",
       "    <tr>\n",
       "      <th>3</th>\n",
       "      <td>Fruits</td>\n",
       "      <td>13</td>\n",
       "      <td>2025-03-16 00:00:00</td>\n",
       "      <td>North Carolfurt</td>\n",
       "    </tr>\n",
       "    <tr>\n",
       "      <th>4</th>\n",
       "      <td>Pasta</td>\n",
       "      <td>40</td>\n",
       "      <td>2025-03-16 00:00:00</td>\n",
       "      <td>North Kennethshire</td>\n",
       "    </tr>\n",
       "    <tr>\n",
       "      <th>...</th>\n",
       "      <td>...</td>\n",
       "      <td>...</td>\n",
       "      <td>...</td>\n",
       "      <td>...</td>\n",
       "    </tr>\n",
       "    <tr>\n",
       "      <th>348</th>\n",
       "      <td>Dairy</td>\n",
       "      <td>30</td>\n",
       "      <td>2025-03-30 00:00:00</td>\n",
       "      <td>East Melissa</td>\n",
       "    </tr>\n",
       "    <tr>\n",
       "      <th>349</th>\n",
       "      <td>Chicken</td>\n",
       "      <td>32</td>\n",
       "      <td>2025-03-30 00:00:00</td>\n",
       "      <td>Martinville</td>\n",
       "    </tr>\n",
       "    <tr>\n",
       "      <th>350</th>\n",
       "      <td>Rice</td>\n",
       "      <td>44</td>\n",
       "      <td>2025-03-30 00:00:00</td>\n",
       "      <td>New Leslieport</td>\n",
       "    </tr>\n",
       "    <tr>\n",
       "      <th>351</th>\n",
       "      <td>Chicken</td>\n",
       "      <td>39</td>\n",
       "      <td>2025-03-30 00:00:00</td>\n",
       "      <td>Heathermouth</td>\n",
       "    </tr>\n",
       "    <tr>\n",
       "      <th>352</th>\n",
       "      <td>Fish</td>\n",
       "      <td>15</td>\n",
       "      <td>2025-03-30 00:00:00</td>\n",
       "      <td>Phillipsfort</td>\n",
       "    </tr>\n",
       "  </tbody>\n",
       "</table>\n",
       "<p>353 rows × 4 columns</p>\n",
       "</div>"
      ],
      "text/plain": [
       "    food_name  quantity               expiry            location\n",
       "0      Fruits        15  2025-03-16 00:00:00           Kellytown\n",
       "1        Rice        50  2025-03-16 00:00:00      North Michelle\n",
       "2        Rice        30  2025-03-16 00:00:00     North Jamesberg\n",
       "3      Fruits        13  2025-03-16 00:00:00     North Carolfurt\n",
       "4       Pasta        40  2025-03-16 00:00:00  North Kennethshire\n",
       "..        ...       ...                  ...                 ...\n",
       "348     Dairy        30  2025-03-30 00:00:00        East Melissa\n",
       "349   Chicken        32  2025-03-30 00:00:00         Martinville\n",
       "350      Rice        44  2025-03-30 00:00:00      New Leslieport\n",
       "351   Chicken        39  2025-03-30 00:00:00        Heathermouth\n",
       "352      Fish        15  2025-03-30 00:00:00        Phillipsfort\n",
       "\n",
       "[353 rows x 4 columns]"
      ]
     },
     "execution_count": 29,
     "metadata": {},
     "output_type": "execute_result"
    }
   ],
   "source": [
    " # Near Expiry\n",
    "pd.read_sql(\n",
    "    \"\"\"\n",
    "    SELECT \n",
    "    food_name,\n",
    "    quantity,\n",
    "    expiry,\n",
    "    location\n",
    "FROM Food_Listings\n",
    "WHERE status = 'Available'\n",
    "  AND date(expiry) <= date('now', '+2 days')\n",
    "ORDER BY expiry ASC;\n",
    "\n",
    "    \"\"\",conn\n",
    ")"
   ]
  },
  {
   "cell_type": "code",
   "execution_count": 30,
   "id": "0c97a171-ac17-45ed-8d22-b5b0e149a186",
   "metadata": {},
   "outputs": [],
   "source": [
    "#There are no food in the database which are near date of expiry"
   ]
  },
  {
   "cell_type": "code",
   "execution_count": 31,
   "id": "d0d08622-a232-4842-801c-539dac771bb5",
   "metadata": {},
   "outputs": [
    {
     "data": {
      "text/html": [
       "<div>\n",
       "<style scoped>\n",
       "    .dataframe tbody tr th:only-of-type {\n",
       "        vertical-align: middle;\n",
       "    }\n",
       "\n",
       "    .dataframe tbody tr th {\n",
       "        vertical-align: top;\n",
       "    }\n",
       "\n",
       "    .dataframe thead th {\n",
       "        text-align: right;\n",
       "    }\n",
       "</style>\n",
       "<table border=\"1\" class=\"dataframe\">\n",
       "  <thead>\n",
       "    <tr style=\"text-align: right;\">\n",
       "      <th></th>\n",
       "      <th>month</th>\n",
       "      <th>expired_items</th>\n",
       "      <th>expired_quantity</th>\n",
       "    </tr>\n",
       "  </thead>\n",
       "  <tbody>\n",
       "  </tbody>\n",
       "</table>\n",
       "</div>"
      ],
      "text/plain": [
       "Empty DataFrame\n",
       "Columns: [month, expired_items, expired_quantity]\n",
       "Index: []"
      ]
     },
     "execution_count": 31,
     "metadata": {},
     "output_type": "execute_result"
    }
   ],
   "source": [
    "#Monthly Expired Quantity Trend\n",
    "pd.read_sql(\n",
    "    \"\"\"\n",
    "    SELECT \n",
    "    strftime('%Y-%m', expiry) AS month, \n",
    "    COUNT(*) AS expired_items,\n",
    "    SUM(quantity) AS expired_quantity\n",
    "FROM Food_Listings\n",
    "WHERE status = 'Expired'\n",
    "GROUP BY month\n",
    "ORDER BY month ASC;\n",
    "\n",
    "    \"\"\",conn\n",
    ")"
   ]
  },
  {
   "cell_type": "code",
   "execution_count": 32,
   "id": "7bc68970-d85f-4581-b315-d28cef2fba79",
   "metadata": {},
   "outputs": [
    {
     "data": {
      "text/html": [
       "<div>\n",
       "<style scoped>\n",
       "    .dataframe tbody tr th:only-of-type {\n",
       "        vertical-align: middle;\n",
       "    }\n",
       "\n",
       "    .dataframe tbody tr th {\n",
       "        vertical-align: top;\n",
       "    }\n",
       "\n",
       "    .dataframe thead th {\n",
       "        text-align: right;\n",
       "    }\n",
       "</style>\n",
       "<table border=\"1\" class=\"dataframe\">\n",
       "  <thead>\n",
       "    <tr style=\"text-align: right;\">\n",
       "      <th></th>\n",
       "      <th>location</th>\n",
       "      <th>total_expired_quantity</th>\n",
       "    </tr>\n",
       "  </thead>\n",
       "  <tbody>\n",
       "  </tbody>\n",
       "</table>\n",
       "</div>"
      ],
      "text/plain": [
       "Empty DataFrame\n",
       "Columns: [location, total_expired_quantity]\n",
       "Index: []"
      ]
     },
     "execution_count": 32,
     "metadata": {},
     "output_type": "execute_result"
    }
   ],
   "source": [
    "#Top locations by expired quantity\n",
    "pd.read_sql(\n",
    "    \"\"\"\n",
    "    SELECT \n",
    "    location, \n",
    "    SUM(quantity) AS total_expired_quantity\n",
    "FROM Food_Listings\n",
    "WHERE status = 'Expired'\n",
    "GROUP BY location\n",
    "ORDER BY total_expired_quantity DESC\n",
    "LIMIT 5;\n",
    "\n",
    "    \"\"\",conn\n",
    ")"
   ]
  },
  {
   "cell_type": "code",
   "execution_count": 33,
   "id": "3633609a-230a-463f-bce6-8f167a518627",
   "metadata": {},
   "outputs": [
    {
     "data": {
      "text/html": [
       "<div>\n",
       "<style scoped>\n",
       "    .dataframe tbody tr th:only-of-type {\n",
       "        vertical-align: middle;\n",
       "    }\n",
       "\n",
       "    .dataframe tbody tr th {\n",
       "        vertical-align: top;\n",
       "    }\n",
       "\n",
       "    .dataframe thead th {\n",
       "        text-align: right;\n",
       "    }\n",
       "</style>\n",
       "<table border=\"1\" class=\"dataframe\">\n",
       "  <thead>\n",
       "    <tr style=\"text-align: right;\">\n",
       "      <th></th>\n",
       "      <th>provider_name</th>\n",
       "      <th>expired_quantity</th>\n",
       "    </tr>\n",
       "  </thead>\n",
       "  <tbody>\n",
       "  </tbody>\n",
       "</table>\n",
       "</div>"
      ],
      "text/plain": [
       "Empty DataFrame\n",
       "Columns: [provider_name, expired_quantity]\n",
       "Index: []"
      ]
     },
     "execution_count": 33,
     "metadata": {},
     "output_type": "execute_result"
    }
   ],
   "source": [
    "#Wastage by Provider\n",
    "pd.read_sql(\n",
    "    \"\"\"\n",
    "    SELECT \n",
    "    p.name AS provider_name, \n",
    "    SUM(f.quantity) AS expired_quantity\n",
    "FROM Food_Listings f\n",
    "JOIN Providers p ON f.provider_id = p.provider_id\n",
    "WHERE f.status = 'Expired'\n",
    "GROUP BY p.name\n",
    "ORDER BY expired_quantity DESC;\n",
    "\n",
    "    \"\"\",conn\n",
    ")"
   ]
  },
  {
   "cell_type": "code",
   "execution_count": 35,
   "id": "98e780cc-c2e5-4b34-bee8-74ae2483db04",
   "metadata": {},
   "outputs": [
    {
     "data": {
      "text/html": [
       "<div>\n",
       "<style scoped>\n",
       "    .dataframe tbody tr th:only-of-type {\n",
       "        vertical-align: middle;\n",
       "    }\n",
       "\n",
       "    .dataframe tbody tr th {\n",
       "        vertical-align: top;\n",
       "    }\n",
       "\n",
       "    .dataframe thead th {\n",
       "        text-align: right;\n",
       "    }\n",
       "</style>\n",
       "<table border=\"1\" class=\"dataframe\">\n",
       "  <thead>\n",
       "    <tr style=\"text-align: right;\">\n",
       "      <th></th>\n",
       "      <th>status</th>\n",
       "      <th>total_items</th>\n",
       "      <th>total_quantity</th>\n",
       "    </tr>\n",
       "  </thead>\n",
       "  <tbody>\n",
       "    <tr>\n",
       "      <th>0</th>\n",
       "      <td>Claimed</td>\n",
       "      <td>647</td>\n",
       "      <td>16634</td>\n",
       "    </tr>\n",
       "  </tbody>\n",
       "</table>\n",
       "</div>"
      ],
      "text/plain": [
       "    status  total_items  total_quantity\n",
       "0  Claimed          647           16634"
      ]
     },
     "execution_count": 35,
     "metadata": {},
     "output_type": "execute_result"
    }
   ],
   "source": [
    "#Claimed vs Expired Comparisation\n",
    "pd.read_sql(\n",
    "    \"\"\"\n",
    "    SELECT \n",
    "    status,\n",
    "    COUNT(*) AS total_items,\n",
    "    SUM(quantity) AS total_quantity\n",
    "FROM Food_Listings\n",
    "WHERE status IN ('Claimed', 'Expired')\n",
    "GROUP BY status;\n",
    "\n",
    "    \"\"\",conn\n",
    ")"
   ]
  },
  {
   "cell_type": "markdown",
   "id": "6869a65f-e94f-4aa1-8bd7-5322253c5f03",
   "metadata": {},
   "source": [
    "# Conclusion"
   ]
  },
  {
   "cell_type": "markdown",
   "id": "e9412d5c-dc36-49e6-9340-f39e8d90fb58",
   "metadata": {},
   "source": [
    "In conclusion, the Local Food Wastage Management System demonstrates a practical and impactful approach to reducing food wastage while improving the efficiency of food distribution to those in need. By harnessing structured data storage, robust analysis pipelines, and user-friendly interfaces, the system identifies key trends and enables real-time decisions for surplus food management. Its ability to monitor expired, claimed, and available food ensures a transparent supply chain and reveals potential areas for improvement and targeted interventions. This project not only enhances resource utilization but also fosters community collaboration between donors and receivers. Ultimately, the solution illustrates how technology and data-driven insights can address social challenges, offering a scalable template for combating food wastage and promoting sustainable, compassionate action in communities."
   ]
  }
 ],
 "metadata": {
  "kernelspec": {
   "display_name": "Python [conda env:base] *",
   "language": "python",
   "name": "conda-base-py"
  },
  "language_info": {
   "codemirror_mode": {
    "name": "ipython",
    "version": 3
   },
   "file_extension": ".py",
   "mimetype": "text/x-python",
   "name": "python",
   "nbconvert_exporter": "python",
   "pygments_lexer": "ipython3",
   "version": "3.12.7"
  }
 },
 "nbformat": 4,
 "nbformat_minor": 5
}
